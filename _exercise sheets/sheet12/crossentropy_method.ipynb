{
 "cells": [
  {
   "cell_type": "markdown",
   "metadata": {},
   "source": [
    "# References\n",
    "This notebook is heavily based on the excellent ``Practical RL'' course from the Yandex\n",
    "School of Data Analysis\n",
    "https://github.com/yandexdataschool/Practical_RL/"
   ]
  },
  {
   "cell_type": "markdown",
   "metadata": {},
   "source": [
    "# Crossentropy method\n",
    "\n",
    "This notebook will teach you to solve reinforcement learning with crossentropy method."
   ]
  },
  {
   "cell_type": "code",
   "execution_count": 1,
   "metadata": {
    "collapsed": true
   },
   "outputs": [],
   "source": [
    "#XVFB will be launched if you run on a server\n",
    "import os\n",
    "if type(os.environ.get(\"DISPLAY\")) is not str or len(os.environ.get(\"DISPLAY\"))==0:\n",
    "    !bash ../xvfb start\n",
    "    %env DISPLAY=:1\n",
    "import matplotlib.pylab as plt\n",
    "%matplotlib inline"
   ]
  },
  {
   "cell_type": "code",
   "execution_count": 2,
   "metadata": {},
   "outputs": [
    {
     "name": "stderr",
     "output_type": "stream",
     "text": [
      "[2017-07-21 10:26:21,650] Making new env: Taxi-v2\n"
     ]
    },
    {
     "name": "stdout",
     "output_type": "stream",
     "text": [
      "+---------+\n",
      "|R: | : :\u001b[35mG\u001b[0m|\n",
      "| : : : : |\n",
      "| : : : : |\n",
      "| | : | : |\n",
      "|Y| : |\u001b[34;1mB\u001b[0m:\u001b[43m \u001b[0m|\n",
      "+---------+\n",
      "\n"
     ]
    }
   ],
   "source": [
    "import gym\n",
    "import numpy as np, pandas as pd\n",
    "\n",
    "env = gym.make(\"Taxi-v2\")\n",
    "env.reset()\n",
    "env.render()"
   ]
  },
  {
   "cell_type": "code",
   "execution_count": 3,
   "metadata": {},
   "outputs": [
    {
     "name": "stdout",
     "output_type": "stream",
     "text": [
      "n_states=500, n_actions=6\n"
     ]
    }
   ],
   "source": [
    "n_states = env.observation_space.n\n",
    "n_actions = env.action_space.n\n",
    "\n",
    "print(\"n_states=%i, n_actions=%i\"%(n_states,n_actions))"
   ]
  },
  {
   "cell_type": "markdown",
   "metadata": {},
   "source": [
    "# Create stochastic policy\n",
    "\n",
    "This time our policy should be a probability distribution.\n",
    "\n",
    "```policy[s,a] = P(take action a | in state s)```\n",
    "\n",
    "Since we still use integer state and action representations, you can use a 2-dimensional array to represent the policy.\n",
    "\n",
    "Please initialize policy __uniformly__, that is, probabililities of all actions should be equal.\n"
   ]
  },
  {
   "cell_type": "code",
   "execution_count": 4,
   "metadata": {},
   "outputs": [],
   "source": [
    "policy = np.ones((n_states, n_actions)) / n_actions"
   ]
  },
  {
   "cell_type": "code",
   "execution_count": 5,
   "metadata": {},
   "outputs": [],
   "source": [
    "assert type(policy) in (np.ndarray,np.matrix)\n",
    "assert np.allclose(policy,1./n_actions)\n",
    "assert np.allclose(np.sum(policy,axis=1), 1)"
   ]
  },
  {
   "cell_type": "markdown",
   "metadata": {},
   "source": [
    "# Play the game\n",
    "\n",
    "Just like before, but we also record all states and actions we took."
   ]
  },
  {
   "cell_type": "code",
   "execution_count": 8,
   "metadata": {},
   "outputs": [],
   "source": [
    "def generate_session(policy, t_max=10**4):\n",
    "    \"\"\"\n",
    "    Play game until end or for t_max ticks.\n",
    "    returns: list of states, list of actions and sum of rewards\n",
    "    \"\"\"\n",
    "    states,actions = [],[]\n",
    "    total_reward = 0.\n",
    "    \n",
    "    s = env.reset()\n",
    "    \n",
    "    for t in range(t_max):\n",
    "        \n",
    "        a = np.random.choice(n_actions, 1, p=policy[s, :])\n",
    "        \n",
    "        new_s,r,done,info = env.step(a[0])\n",
    "        \n",
    "        states.append(s)\n",
    "        actions.append(a)\n",
    "        total_reward += r\n",
    "        \n",
    "        s = new_s\n",
    "        if done:\n",
    "            break\n",
    "    return states,actions,total_reward\n",
    "        "
   ]
  },
  {
   "cell_type": "code",
   "execution_count": 10,
   "metadata": {},
   "outputs": [],
   "source": [
    "s,a,r = generate_session(policy)\n",
    "assert type(s) == type(a) == list\n",
    "assert len(s) == len(a)\n",
    "assert type(r) is float"
   ]
  },
  {
   "cell_type": "markdown",
   "metadata": {},
   "source": [
    "# Training loop\n",
    "Generate sessions, select N best and fit to those."
   ]
  },
  {
   "cell_type": "code",
   "execution_count": 13,
   "metadata": {},
   "outputs": [],
   "source": [
    "def run(policy, n_samples=250, percentile=50, smoothing=.1):\n",
    "    step_rewards = []\n",
    "    step_thresholds = []\n",
    "\n",
    "    for i in range(100):\n",
    "\n",
    "        sessions = [generate_session(policy) for k in range(n_samples)]\n",
    "\n",
    "        batch_states,batch_actions,batch_rewards = map(np.array,zip(*sessions))\n",
    "\n",
    "        #batch_states: a list of lists of states in each session\n",
    "        #batch_actions: a list of lists of actions in each session\n",
    "        #batch_rewards: a list of floats - total rewards at each session\n",
    "\n",
    "        threshold = np.percentile(batch_rewards, percentile)\n",
    "\n",
    "        elite_states = [batch_states[j] for j, r in enumerate(batch_rewards) if r > threshold]\n",
    "        elite_actions  = [batch_actions[j] for j, r in enumerate(batch_rewards) if r > threshold]\n",
    "\n",
    "        elite_states, elite_actions = map(np.concatenate,[elite_states,elite_actions])\n",
    "        #hint on task above: use np.percentile and numpy-style indexing\n",
    "\n",
    "        #count actions from elite states\n",
    "        elite_counts = np.zeros_like(policy)+smoothing\n",
    "\n",
    "        for s, a in zip(elite_states, elite_actions):\n",
    "            elite_counts[s, a] += 1\n",
    "\n",
    "        policy = elite_counts / elite_counts.sum(axis=1).reshape(elite_counts.shape[0], 1)\n",
    "\n",
    "        print(\"mean reward = %.5f\\tthreshold = %.1f\"%(np.mean(batch_rewards),threshold))\n",
    "        step_rewards.append(np.mean(batch_rewards))\n",
    "        step_thresholds.append(threshold)\n",
    "    return step_rewards, step_thresholds        "
   ]
  },
  {
   "cell_type": "code",
   "execution_count": 14,
   "metadata": {
    "scrolled": false
   },
   "outputs": [
    {
     "name": "stdout",
     "output_type": "stream",
     "text": [
      "mean reward = -748.90000\tthreshold = -776.0\n",
      "mean reward = -658.96800\tthreshold = -713.0\n",
      "mean reward = -550.54000\tthreshold = -609.5\n",
      "mean reward = -440.40000\tthreshold = -460.0\n",
      "mean reward = -291.70400\tthreshold = -253.0\n",
      "mean reward = -177.12400\tthreshold = -151.0\n",
      "mean reward = -122.66000\tthreshold = -103.0\n",
      "mean reward = -123.18400\tthreshold = -82.5\n",
      "mean reward = -102.96400\tthreshold = -67.0\n",
      "mean reward = -76.77200\tthreshold = -49.0\n",
      "mean reward = -56.55600\tthreshold = -35.5\n",
      "mean reward = -52.18000\tthreshold = -28.0\n",
      "mean reward = -56.34400\tthreshold = -25.0\n",
      "mean reward = -49.17600\tthreshold = -17.5\n",
      "mean reward = -48.92400\tthreshold = -14.0\n",
      "mean reward = -53.55600\tthreshold = -13.0\n",
      "mean reward = -65.53200\tthreshold = -16.0\n",
      "mean reward = -41.55600\tthreshold = -10.0\n",
      "mean reward = -58.99200\tthreshold = -14.5\n",
      "mean reward = -44.85600\tthreshold = -11.0\n",
      "mean reward = -57.89600\tthreshold = -17.0\n",
      "mean reward = -65.25200\tthreshold = -15.0\n",
      "mean reward = -49.27200\tthreshold = -13.0\n",
      "mean reward = -34.82000\tthreshold = -11.0\n",
      "mean reward = -50.16800\tthreshold = -8.5\n",
      "mean reward = -42.74400\tthreshold = -6.5\n",
      "mean reward = -24.15200\tthreshold = -7.0\n",
      "mean reward = -52.96800\tthreshold = -11.5\n",
      "mean reward = -33.20000\tthreshold = -7.5\n",
      "mean reward = -61.23600\tthreshold = -11.0\n",
      "mean reward = -43.13200\tthreshold = -15.5\n",
      "mean reward = -52.20000\tthreshold = -11.0\n",
      "mean reward = -33.40800\tthreshold = -7.0\n",
      "mean reward = -62.16800\tthreshold = -9.0\n",
      "mean reward = -61.59600\tthreshold = -9.0\n",
      "mean reward = -70.67600\tthreshold = -8.0\n",
      "mean reward = -100.13600\tthreshold = -19.5\n",
      "mean reward = -85.57600\tthreshold = -18.5\n",
      "mean reward = -53.41600\tthreshold = -10.0\n",
      "mean reward = -65.84000\tthreshold = -17.0\n",
      "mean reward = -58.34000\tthreshold = -13.5\n",
      "mean reward = -51.66400\tthreshold = -14.0\n",
      "mean reward = -72.98400\tthreshold = -16.0\n",
      "mean reward = -45.40400\tthreshold = -11.0\n",
      "mean reward = -37.96400\tthreshold = -14.0\n",
      "mean reward = -52.18400\tthreshold = -15.0\n",
      "mean reward = -82.21600\tthreshold = -21.0\n",
      "mean reward = -39.26800\tthreshold = -14.0\n",
      "mean reward = -62.20800\tthreshold = -14.0\n",
      "mean reward = -42.45200\tthreshold = -12.5\n",
      "mean reward = -53.80000\tthreshold = -18.5\n",
      "mean reward = -36.25200\tthreshold = -10.5\n",
      "mean reward = -46.21200\tthreshold = -9.0\n",
      "mean reward = -39.24800\tthreshold = -9.0\n",
      "mean reward = -46.76000\tthreshold = -11.0\n",
      "mean reward = -37.35600\tthreshold = -8.5\n",
      "mean reward = -62.42000\tthreshold = -9.0\n",
      "mean reward = -51.75200\tthreshold = -12.0\n",
      "mean reward = -58.33600\tthreshold = -10.0\n",
      "mean reward = -53.90800\tthreshold = -10.0\n",
      "mean reward = -48.47600\tthreshold = -11.0\n",
      "mean reward = -71.13600\tthreshold = -11.0\n",
      "mean reward = -106.10800\tthreshold = -13.5\n",
      "mean reward = -66.13200\tthreshold = -6.0\n",
      "mean reward = -117.84800\tthreshold = -13.0\n",
      "mean reward = -95.20800\tthreshold = -21.0\n",
      "mean reward = -80.80800\tthreshold = -14.0\n",
      "mean reward = -112.08400\tthreshold = -19.0\n",
      "mean reward = -120.04800\tthreshold = -17.5\n",
      "mean reward = -102.84800\tthreshold = -12.0\n",
      "mean reward = -149.37600\tthreshold = -24.5\n",
      "mean reward = -171.23200\tthreshold = -26.5\n",
      "mean reward = -131.64800\tthreshold = -18.0\n",
      "mean reward = -160.63200\tthreshold = -21.5\n",
      "mean reward = -132.88800\tthreshold = -19.5\n",
      "mean reward = -132.77600\tthreshold = -15.0\n",
      "mean reward = -133.00800\tthreshold = -16.0\n",
      "mean reward = -195.14800\tthreshold = -23.0\n",
      "mean reward = -164.01200\tthreshold = -24.0\n",
      "mean reward = -148.64400\tthreshold = -20.0\n",
      "mean reward = -142.76800\tthreshold = -17.0\n",
      "mean reward = -107.10400\tthreshold = -12.0\n",
      "mean reward = -126.42000\tthreshold = -14.0\n",
      "mean reward = -144.23200\tthreshold = -14.0\n",
      "mean reward = -167.03600\tthreshold = -17.0\n",
      "mean reward = -138.96400\tthreshold = -18.0\n",
      "mean reward = -135.47200\tthreshold = -12.0\n",
      "mean reward = -147.62800\tthreshold = -15.5\n",
      "mean reward = -149.15600\tthreshold = -15.0\n",
      "mean reward = -110.00400\tthreshold = -8.0\n",
      "mean reward = -133.30000\tthreshold = -17.5\n",
      "mean reward = -93.62800\tthreshold = -16.0\n",
      "mean reward = -132.52000\tthreshold = -15.0\n",
      "mean reward = -122.37600\tthreshold = -18.5\n",
      "mean reward = -166.14400\tthreshold = -19.5\n",
      "mean reward = -143.66400\tthreshold = -23.0\n",
      "mean reward = -197.74000\tthreshold = -20.5\n",
      "mean reward = -184.03600\tthreshold = -15.0\n",
      "mean reward = -220.70400\tthreshold = -20.0\n",
      "mean reward = -195.82800\tthreshold = -21.0\n"
     ]
    }
   ],
   "source": [
    "step_rewards, step_threshold = run(percentile=50, policy=policy)"
   ]
  },
  {
   "cell_type": "code",
   "execution_count": 16,
   "metadata": {},
   "outputs": [
    {
     "data": {
      "image/png": "[encoded data removed]",
      "text/plain": [
       "<matplotlib.figure.Figure at 0x7f9684666518>"
      ]
     },
     "metadata": {},
     "output_type": "display_data"
    }
   ],
   "source": [
    "plt.cla()\n",
    "plt.title(\"percentile 50, 250 samples\")\n",
    "plt.plot(range(100), step_rewards, label='Reward', color=\"blue\")\n",
    "plt.plot(range(100), step_threshold, label='Threshold', color=\"red\")\n",
    "plt.legend()\n",
    "plt.show()"
   ]
  },
  {
   "cell_type": "code",
   "execution_count": 17,
   "metadata": {},
   "outputs": [
    {
     "name": "stdout",
     "output_type": "stream",
     "text": [
      "mean reward = -776.73600\tthreshold = -830.0\n",
      "mean reward = -736.77600\tthreshold = -803.0\n",
      "mean reward = -702.81600\tthreshold = -767.0\n",
      "mean reward = -665.22000\tthreshold = -731.0\n",
      "mean reward = -630.09200\tthreshold = -695.0\n",
      "mean reward = -574.86000\tthreshold = -668.0\n",
      "mean reward = -553.41200\tthreshold = -632.0\n",
      "mean reward = -525.62400\tthreshold = -614.0\n",
      "mean reward = -484.17600\tthreshold = -569.0\n",
      "mean reward = -433.99200\tthreshold = -539.8\n",
      "mean reward = -401.89200\tthreshold = -497.0\n",
      "mean reward = -363.05200\tthreshold = -470.0\n",
      "mean reward = -343.67600\tthreshold = -443.0\n",
      "mean reward = -292.75200\tthreshold = -398.0\n",
      "mean reward = -260.38000\tthreshold = -362.0\n",
      "mean reward = -245.77600\tthreshold = -335.0\n",
      "mean reward = -202.20800\tthreshold = -308.0\n",
      "mean reward = -184.28000\tthreshold = -272.0\n",
      "mean reward = -169.36800\tthreshold = -245.0\n",
      "mean reward = -128.24000\tthreshold = -194.0\n",
      "mean reward = -164.85200\tthreshold = -159.2\n",
      "mean reward = -140.38800\tthreshold = -138.8\n",
      "mean reward = -85.07600\tthreshold = -110.0\n",
      "mean reward = -63.08000\tthreshold = -83.8\n",
      "mean reward = -59.51200\tthreshold = -74.0\n",
      "mean reward = -48.29200\tthreshold = -66.0\n",
      "mean reward = -46.84800\tthreshold = -59.8\n",
      "mean reward = -44.60000\tthreshold = -60.0\n",
      "mean reward = -41.93600\tthreshold = -58.0\n",
      "mean reward = -37.46800\tthreshold = -51.0\n",
      "mean reward = -35.52800\tthreshold = -42.0\n",
      "mean reward = -31.96000\tthreshold = -43.0\n",
      "mean reward = -29.33200\tthreshold = -43.0\n",
      "mean reward = -36.48400\tthreshold = -42.8\n",
      "mean reward = -26.60400\tthreshold = -33.0\n",
      "mean reward = -28.00000\tthreshold = -32.8\n",
      "mean reward = -21.55600\tthreshold = -28.0\n",
      "mean reward = -29.66000\tthreshold = -36.5\n",
      "mean reward = -28.21200\tthreshold = -37.8\n",
      "mean reward = -25.54400\tthreshold = -32.0\n",
      "mean reward = -19.84800\tthreshold = -28.5\n",
      "mean reward = -19.79200\tthreshold = -25.0\n",
      "mean reward = -22.70000\tthreshold = -32.0\n",
      "mean reward = -15.64800\tthreshold = -24.0\n",
      "mean reward = -20.51600\tthreshold = -25.0\n",
      "mean reward = -20.46400\tthreshold = -23.8\n",
      "mean reward = -16.61600\tthreshold = -19.0\n",
      "mean reward = -18.07600\tthreshold = -18.8\n",
      "mean reward = -17.65600\tthreshold = -22.0\n",
      "mean reward = -24.44400\tthreshold = -29.0\n",
      "mean reward = -18.94400\tthreshold = -26.8\n",
      "mean reward = -17.08400\tthreshold = -24.0\n",
      "mean reward = -15.60400\tthreshold = -24.8\n",
      "mean reward = -18.03600\tthreshold = -26.0\n",
      "mean reward = -21.77200\tthreshold = -28.8\n",
      "mean reward = -20.99600\tthreshold = -30.5\n",
      "mean reward = -26.45200\tthreshold = -32.0\n",
      "mean reward = -22.40000\tthreshold = -32.0\n",
      "mean reward = -19.08000\tthreshold = -27.2\n",
      "mean reward = -22.44000\tthreshold = -30.0\n",
      "mean reward = -24.70800\tthreshold = -29.0\n",
      "mean reward = -19.07600\tthreshold = -28.0\n",
      "mean reward = -18.47200\tthreshold = -24.0\n",
      "mean reward = -19.20400\tthreshold = -28.0\n",
      "mean reward = -20.08400\tthreshold = -22.0\n",
      "mean reward = -25.38000\tthreshold = -30.8\n",
      "mean reward = -23.06800\tthreshold = -32.8\n",
      "mean reward = -22.64800\tthreshold = -31.0\n",
      "mean reward = -27.01600\tthreshold = -26.0\n",
      "mean reward = -21.74400\tthreshold = -28.8\n",
      "mean reward = -52.07200\tthreshold = -39.0\n",
      "mean reward = -36.02400\tthreshold = -35.8\n",
      "mean reward = -30.87200\tthreshold = -29.0\n",
      "mean reward = -27.51200\tthreshold = -34.0\n",
      "mean reward = -34.70400\tthreshold = -32.2\n",
      "mean reward = -23.82000\tthreshold = -32.8\n",
      "mean reward = -17.20800\tthreshold = -24.8\n",
      "mean reward = -27.67200\tthreshold = -35.8\n",
      "mean reward = -19.59200\tthreshold = -29.0\n",
      "mean reward = -22.08800\tthreshold = -29.8\n",
      "mean reward = -27.78400\tthreshold = -35.8\n",
      "mean reward = -29.80000\tthreshold = -29.0\n",
      "mean reward = -31.17200\tthreshold = -37.8\n",
      "mean reward = -22.27200\tthreshold = -30.0\n",
      "mean reward = -24.40400\tthreshold = -24.8\n",
      "mean reward = -24.61600\tthreshold = -30.8\n",
      "mean reward = -25.05600\tthreshold = -36.0\n",
      "mean reward = -20.10800\tthreshold = -28.0\n",
      "mean reward = -25.71200\tthreshold = -26.0\n",
      "mean reward = -28.91200\tthreshold = -34.8\n",
      "mean reward = -22.56800\tthreshold = -24.0\n",
      "mean reward = -22.82800\tthreshold = -30.0\n",
      "mean reward = -20.84800\tthreshold = -28.8\n",
      "mean reward = -26.17600\tthreshold = -33.0\n",
      "mean reward = -30.53600\tthreshold = -32.8\n",
      "mean reward = -17.78000\tthreshold = -24.0\n",
      "mean reward = -23.69200\tthreshold = -28.8\n",
      "mean reward = -27.98800\tthreshold = -32.8\n",
      "mean reward = -26.91200\tthreshold = -35.0\n",
      "mean reward = -18.88400\tthreshold = -26.8\n"
     ]
    },
    {
     "data": {
      "image/png": "[encoded data removed]",
      "text/plain": [
       "<matplotlib.figure.Figure at 0x7f9684a936d8>"
      ]
     },
     "metadata": {},
     "output_type": "display_data"
    }
   ],
   "source": [
    "step_rewards, step_threshold = run(percentile=25, policy=policy)\n",
    "plt.cla()\n",
    "plt.title(\"percentile 25, 250 samples\")\n",
    "plt.plot(range(100), step_rewards, label='Reward', color=\"blue\")\n",
    "plt.plot(range(100), step_threshold, label='Threshold', color=\"red\")\n",
    "plt.legend()\n",
    "plt.show()"
   ]
  },
  {
   "cell_type": "code",
   "execution_count": 18,
   "metadata": {
    "scrolled": false
   },
   "outputs": [
    {
     "name": "stdout",
     "output_type": "stream",
     "text": [
      "mean reward = -792.57000\tthreshold = -841.2\n",
      "mean reward = -771.99000\tthreshold = -812.0\n",
      "mean reward = -737.87000\tthreshold = -812.0\n",
      "mean reward = -710.15000\tthreshold = -785.0\n",
      "mean reward = -660.84000\tthreshold = -740.0\n",
      "mean reward = -575.75000\tthreshold = -695.0\n",
      "mean reward = -527.63000\tthreshold = -623.0\n",
      "mean reward = -535.13000\tthreshold = -632.0\n",
      "mean reward = -512.77000\tthreshold = -587.0\n",
      "mean reward = -494.94000\tthreshold = -589.2\n",
      "mean reward = -486.33000\tthreshold = -571.2\n",
      "mean reward = -486.10000\tthreshold = -535.2\n",
      "mean reward = -444.22000\tthreshold = -506.0\n",
      "mean reward = -373.74000\tthreshold = -461.2\n",
      "mean reward = -380.68000\tthreshold = -454.2\n",
      "mean reward = -374.88000\tthreshold = -427.2\n",
      "mean reward = -360.46000\tthreshold = -418.2\n",
      "mean reward = -341.11000\tthreshold = -398.0\n",
      "mean reward = -342.03000\tthreshold = -407.0\n",
      "mean reward = -336.11000\tthreshold = -399.5\n",
      "mean reward = -314.08000\tthreshold = -380.0\n",
      "mean reward = -343.51000\tthreshold = -380.0\n",
      "mean reward = -340.60000\tthreshold = -389.0\n",
      "mean reward = -319.88000\tthreshold = -382.2\n",
      "mean reward = -280.08000\tthreshold = -337.2\n",
      "mean reward = -277.83000\tthreshold = -326.0\n",
      "mean reward = -267.47000\tthreshold = -308.0\n",
      "mean reward = -258.79000\tthreshold = -299.0\n",
      "mean reward = -265.33000\tthreshold = -299.0\n",
      "mean reward = -286.38000\tthreshold = -299.0\n",
      "mean reward = -271.62000\tthreshold = -299.0\n",
      "mean reward = -309.74000\tthreshold = -319.2\n",
      "mean reward = -316.79000\tthreshold = -308.0\n",
      "mean reward = -295.78000\tthreshold = -319.2\n",
      "mean reward = -338.03000\tthreshold = -337.2\n",
      "mean reward = -357.66000\tthreshold = -386.8\n",
      "mean reward = -308.34000\tthreshold = -319.2\n",
      "mean reward = -298.45000\tthreshold = -299.8\n",
      "mean reward = -263.14000\tthreshold = -283.2\n",
      "mean reward = -300.87000\tthreshold = -300.8\n",
      "mean reward = -297.79000\tthreshold = -310.2\n",
      "mean reward = -273.05000\tthreshold = -290.0\n",
      "mean reward = -288.52000\tthreshold = -303.5\n",
      "mean reward = -276.76000\tthreshold = -299.0\n",
      "mean reward = -284.06000\tthreshold = -308.0\n",
      "mean reward = -255.02000\tthreshold = -281.0\n",
      "mean reward = -230.85000\tthreshold = -281.0\n",
      "mean reward = -281.84000\tthreshold = -301.2\n",
      "mean reward = -262.25000\tthreshold = -292.2\n",
      "mean reward = -257.86000\tthreshold = -290.0\n",
      "mean reward = -288.43000\tthreshold = -299.0\n",
      "mean reward = -270.75000\tthreshold = -308.0\n",
      "mean reward = -301.73000\tthreshold = -326.0\n",
      "mean reward = -252.31000\tthreshold = -281.0\n",
      "mean reward = -246.31000\tthreshold = -281.5\n",
      "mean reward = -290.06000\tthreshold = -308.0\n",
      "mean reward = -269.62000\tthreshold = -317.0\n",
      "mean reward = -244.89000\tthreshold = -281.0\n",
      "mean reward = -229.35000\tthreshold = -281.0\n",
      "mean reward = -236.55000\tthreshold = -254.0\n",
      "mean reward = -221.31000\tthreshold = -247.2\n",
      "mean reward = -248.10000\tthreshold = -256.2\n",
      "mean reward = -269.00000\tthreshold = -274.2\n",
      "mean reward = -219.51000\tthreshold = -245.0\n",
      "mean reward = -250.57000\tthreshold = -284.5\n",
      "mean reward = -231.63000\tthreshold = -263.0\n",
      "mean reward = -212.85000\tthreshold = -236.0\n",
      "mean reward = -235.22000\tthreshold = -263.0\n",
      "mean reward = -201.96000\tthreshold = -238.0\n",
      "mean reward = -215.89000\tthreshold = -254.0\n",
      "mean reward = -217.81000\tthreshold = -251.8\n",
      "mean reward = -187.37000\tthreshold = -225.5\n",
      "mean reward = -210.01000\tthreshold = -248.8\n",
      "mean reward = -281.58000\tthreshold = -380.2\n",
      "mean reward = -218.85000\tthreshold = -233.2\n",
      "mean reward = -283.76000\tthreshold = -375.8\n",
      "mean reward = -233.10000\tthreshold = -254.0\n",
      "mean reward = -257.05000\tthreshold = -280.2\n",
      "mean reward = -272.42000\tthreshold = -333.5\n",
      "mean reward = -226.27000\tthreshold = -245.2\n",
      "mean reward = -223.83000\tthreshold = -266.2\n",
      "mean reward = -237.65000\tthreshold = -284.2\n",
      "mean reward = -260.44000\tthreshold = -303.5\n",
      "mean reward = -341.36000\tthreshold = -742.2\n",
      "mean reward = -258.53000\tthreshold = -366.2\n",
      "mean reward = -306.26000\tthreshold = -644.8\n",
      "mean reward = -335.42000\tthreshold = -605.0\n",
      "mean reward = -291.34000\tthreshold = -463.2\n",
      "mean reward = -282.35000\tthreshold = -364.2\n",
      "mean reward = -326.48000\tthreshold = -661.2\n",
      "mean reward = -316.78000\tthreshold = -515.0\n",
      "mean reward = -294.85000\tthreshold = -413.8\n",
      "mean reward = -261.13000\tthreshold = -365.2\n",
      "mean reward = -222.61000\tthreshold = -270.2\n",
      "mean reward = -171.61000\tthreshold = -245.0\n",
      "mean reward = -163.07000\tthreshold = -207.5\n",
      "mean reward = -150.65000\tthreshold = -177.2\n",
      "mean reward = -137.08000\tthreshold = -160.0\n",
      "mean reward = -168.80000\tthreshold = -181.0\n",
      "mean reward = -159.95000\tthreshold = -206.0\n"
     ]
    },
    {
     "data": {
      "image/png": "[encoded data removed]",
      "text/plain": [
       "<matplotlib.figure.Figure at 0x7f9684486438>"
      ]
     },
     "metadata": {},
     "output_type": "display_data"
    }
   ],
   "source": [
    "step_rewards, step_threshold = run(percentile=25, n_samples=100, policy=policy)\n",
    "plt.cla()\n",
    "plt.title(\"percentile 25, 100 samples\")\n",
    "plt.plot(range(100), step_rewards, label='Reward', color=\"blue\")\n",
    "plt.plot(range(100), step_threshold, label='Threshold', color=\"red\")\n",
    "plt.legend()\n",
    "plt.show()"
   ]
  },
  {
   "cell_type": "markdown",
   "metadata": {},
   "source": [
    "# Homework\n",
    "\n",
    "### Tabular correntropy method\n",
    "\n",
    "You may have noticed that the taxi problem quickly converges from -10k to aroung -500 score (+- 500) and stays there. This is in part because taxi-v2 has some hard-coded randomness in the environment. Other reason is that the percentile was chosen poorly.\n",
    "\n",
    "### Tasks\n",
    "- __1.1__ (5 pt) Modify the tabular CEM (CrossEntropyMethod) code to plot distribution of rewards and threshold on each tick.\n",
    "- __1.2__ (5 pts) Find out how the algorithm performance changes if you change different percentile and different n_samples.\n",
    "\n",
    "As expected, a smaller (but not too small) percentile converges slower but better better and fewer n_samples work worse.\n",
    "\n",
    "- __1.3__ (10 pts) Tune the algorithm to end up with positive average score.\n",
    "- __1.4 bonus__ (10 pt) Try to achieve a distribution where 25% or more samples score above +9.0\n",
    "\n",
    "It's okay to modify the existing code.\n"
   ]
  },
  {
   "cell_type": "markdown",
   "metadata": {},
   "source": []
  }
 ],
 "metadata": {
  "kernelspec": {
   "display_name": "Python 3",
   "language": "python",
   "name": "python3"
  },
  "language_info": {
   "codemirror_mode": {
    "name": "ipython",
    "version": 3
   },
   "file_extension": ".py",
   "mimetype": "text/x-python",
   "name": "python",
   "nbconvert_exporter": "python",
   "pygments_lexer": "ipython3",
   "version": "3.6.1"
  }
 },
 "nbformat": 4,
 "nbformat_minor": 1
}
