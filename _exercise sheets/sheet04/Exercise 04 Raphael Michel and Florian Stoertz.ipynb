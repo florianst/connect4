{
 "cells": [
  {
   "cell_type": "markdown",
   "metadata": {},
   "source": [
    "# Number of Configurations\n",
    "Grid graph with $N\\times N$ with $x_i \\in \\{0, 1, \\dots, x_{N^2-1}\\}$.\n",
    "* $X$ can take $k^{(N^2)}$ different configurations. For $N = 50$ and $k = 2$, this is already $6.25 \\cdot 10^6$. For a -- rather small -- picture of dimensions $N=400$ with $k=6$ categories, this is already on the order of $10^{93}$, while the universe contains only about $10^{80}$ particles.\n",
    "* Re-formulating as an ILP, we'd need $N^2 k$ indicator variables for the unaries and $2N(N-1)k^2$ for the pariwise factors, ergo $\\#\\mu = 2N(N-1)k^2 + N^2 k$\n",
    "* Ignoring the consistency constraints, those can take $2^{\\#\\mu}$ values.\n",
    "* With the consistency constraints, we should again come down to our $k^{(N^2)}$ constraints, since the problem needs to map to our original problem."
   ]
  },
  {
   "cell_type": "markdown",
   "metadata": {},
   "source": [
    "# Construct $\\psi$\n",
    "Grid of $N\\times N$ as above with $X\\in \\{0, 1\\}^{N^2}$\n",
    "* To achieve an arbitrary optimal labeling $X^*$ we can just set \n",
    "\\begin{align}\n",
    "    \\psi_i(x_i) = \\left\\{\\begin{array}{lr}\n",
    "        0, & \\text{for } X^*_i = x_i\\\\\n",
    "        1 & \\text{otherwise}\n",
    "        \\end{array}\\right\\}\n",
    "\\end{align} and $\\psi_{ij}$ = 0"
   ]
  },
  {
   "cell_type": "markdown",
   "metadata": {},
   "source": [
    "# Attractive vs. Repulsive Potts Model\n",
    "## Grid Graphical Model\n",
    "* For $\\alpha = 0$ and $\\beta = 1$ we can easily find a labeling $X$ with $E(X) = 0$ by setting all $x_i$ to the same value, either zero or one.\n",
    "* For $\\alpha = 1$ and $\\beta = 0$ we can easily find a labeling $X$ with $E(X) = 0$ by using a \"chessboard pattern\"\n",
    "\n",
    "\n",
    "## Graphical Model with Irregular Structure\n",
    "* For $\\alpha = 0$ and $\\beta = 1$ we can easily find a labeling $X$ with $E(X) = 0$ by setting all $x_i$ to the same value, either zero or one. The topology does not matter in this case.\n",
    "* For $\\alpha = 1$ and $\\beta = 0$, we cannot easily generalize the result to arbitrary grid structures. As a counterexample, we could take a grid as simple as three variables that are all directly interconnected. With binary options, there is obviously no way to label all neighboring variables differently. We would pose the conjecture that *all* cycles in the grid need to be of even length for this to be possible. "
   ]
  },
  {
   "cell_type": "markdown",
   "metadata": {},
   "source": [
    "# Bonus\n",
    "Let's assume we have a feasible integer solution that is not a corner of our marginal polytope. Now, with the strategy of excercise 2, we can construct a situation in which this solution is the optimal solution. However, by mere definition of the marginal polytope and of linear problems, we need to have a corner that is a *better* solution then ours. This is a contradiction."
   ]
  },
  {
   "cell_type": "code",
   "execution_count": null,
   "metadata": {
    "collapsed": true
   },
   "outputs": [],
   "source": []
  }
 ],
 "metadata": {
  "kernelspec": {
   "display_name": "Python 3",
   "language": "python",
   "name": "python3"
  },
  "language_info": {
   "codemirror_mode": {
    "name": "ipython",
    "version": 3
   },
   "file_extension": ".py",
   "mimetype": "text/x-python",
   "name": "python",
   "nbconvert_exporter": "python",
   "pygments_lexer": "ipython3",
   "version": "3.6.1"
  }
 },
 "nbformat": 4,
 "nbformat_minor": 2
}
