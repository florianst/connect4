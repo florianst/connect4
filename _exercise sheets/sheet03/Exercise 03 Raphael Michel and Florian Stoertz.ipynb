{
 "cells": [
  {
   "cell_type": "markdown",
   "metadata": {},
   "source": [
    "# Linear Programs\n",
    "## Implementation"
   ]
  },
  {
   "cell_type": "markdown",
   "metadata": {},
   "source": [
    "Using the definition given in the scipy manal, we write our graphical model as a linear program:\n",
    "\\begin{align}\n",
    "\\min \\quad & c^T \\mu \\\\\n",
    "\\mathrm{s.t.} \\quad & A_u \\mu = b_u \\\\\n",
    "& A_e \\mu = b_e\n",
    "\\end{align}\n",
    "For the given graphical model, we have\n",
    "\\begin{align}\n",
    "\\mu^T = [ & \\mu_0 (0, z_0),\n",
    "\\mu_0 (1, z_0),\n",
    "\\mu_1 (0, z_1),\n",
    "\\mu_1 (1, z_1),\n",
    "\\mu_2 (0, z_2),\n",
    "\\mu_2 (1, z_2), \\\\\n",
    "& \\mu_{01} (0, 0, z_0, z_1),\n",
    "\\mu_{01} (0, 1, z_0, z_1),\n",
    "\\mu_{01} (1, 0, z_0, z_1),\n",
    "\\mu_{01} (1, 1, z_0, z_1), \\\\\n",
    "&\\mu_{02} (0, 0, z_0, z_2),\n",
    "\\mu_{02} (0, 1, z_0, z_2),\n",
    "\\mu_{02} (1, 0, z_0, z_2),\n",
    "\\mu_{02} (1, 1, z_0, z_2), \\\\\n",
    "&\\mu_{12} (0, 0, z_1, z_2),\n",
    "\\mu_{12} (0, 1, z_1, z_2),\n",
    "\\mu_{12} (1, 0, z_1, z_2),\n",
    "\\mu_{12} (1, 1, z_1, z_2)\n",
    "]\n",
    "\\end{align}\n",
    "and a cost vector of\n",
    "\\begin{align}\n",
    "c^T = [ \n",
    "&\\psi_0(0), \\psi_0(1),\n",
    "\\psi_1(0), \\psi_1(1),\n",
    "\\psi_2(0), \\psi_2(1), \\\\\n",
    "&\\psi_p(0, 0),\n",
    "\\psi_p(0, 1),\n",
    "\\psi_p(1, 0),\n",
    "\\psi_p(1, 1),\\\\\n",
    "&\\psi_p(0, 0),\n",
    "\\psi_p(0, 1),\n",
    "\\psi_p(1, 0),\n",
    "\\psi_p(1, 1),\\\\\n",
    "&\\psi_p(0, 0),\n",
    "\\psi_p(0, 1),\n",
    "\\psi_p(1, 0),\n",
    "\\psi_p(1, 1)\n",
    "].\n",
    "\\end{align}\n",
    "\n",
    "From our constraint $\\mu_{ij}(k, l) \\ge 0$ we get the inequality constraint\n",
    "\\begin{align}\n",
    "\\begin{bmatrix}\n",
    "1 & & &  \\\\\n",
    " & 1 &  &  \\\\\n",
    "&  & \\ddots &  \\\\\n",
    " &  &  & 1  \\\\\n",
    "\\end{bmatrix} \\mu \\ge \\begin{bmatrix} 0 \\\\ \\vdots \\\\ 0 \\end{bmatrix}.\n",
    "\\end{align}"
   ]
  },
  {
   "cell_type": "markdown",
   "metadata": {},
   "source": [
    "For the equality constraints, we get\n",
    "\n",
    "\\begin{align}\n",
    "\\left[\n",
    "\\begin{array}{c|ccc}\n",
    "C & &0& \\\\\n",
    "\\hline\n",
    " & E &&\\\\\n",
    "D & &  E&\\\\\n",
    " & && E\\\\\n",
    "\\end{array}\n",
    "\\right]\n",
    "\\mu = \\left[\n",
    "\\begin{array}{c}\n",
    "\\mathbb{1}_{3\\times 1} \\\\\n",
    "\\hline\n",
    "0\n",
    "\\end{array}\\right].\n",
    "\\end{align}\n",
    "\n",
    "In this block matrix, the $C$ part realizes the condition $\\sum_k \\mu_i(k) = 1$:\n",
    "\\begin{align}\n",
    "C &= \\begin{bmatrix}\n",
    "1 & 1 & & & &  \\\\\n",
    " & & 1 & 1 & & \\\\\n",
    " & & & & 1 & 1\\\\\n",
    "\\end{bmatrix}\n",
    "\\end{align}\n",
    "\n",
    "And the lower part realizes the other two conditions $\\sum_k \\mu_{ij}(k, l) = \\mu_j(l)$ and $\\sum_l \\mu_{ij}(k, l) = \\mu_i(k)$:\n",
    "\n",
    "\\begin{align}\n",
    "D &= \\left[\\begin{array}{*{7}c}\n",
    "-1 & &&&&& \\\\\n",
    "& -1 &&&& \\\\\n",
    "&& -1 &&& \\\\\n",
    "&&& -1 && \\\\\n",
    "-1 & &&&&& \\\\\n",
    "& -1 &&&& \\\\\n",
    "&&&& -1 & \\\\\n",
    "&&&&& -1 \\\\\n",
    "&& -1 &&& \\\\\n",
    "&&& -1 && \\\\\n",
    "&&&& -1 & \\\\\n",
    "&&&&& -1\n",
    "\\end{array}\\right]\n",
    "\\\\\n",
    "E &= \\left[\\begin{array}{*{4}c}\n",
    "1 & 1 & & \\\\\n",
    "& & 1 & 1 \\\\\n",
    "1 & & 1 & \\\\\n",
    "& 1 & & 1\n",
    "\\end{array}\\right]\n",
    "\\end{align}"
   ]
  },
  {
   "cell_type": "code",
   "execution_count": 28,
   "metadata": {},
   "outputs": [],
   "source": [
    "import numpy as np\n",
    "from scipy.linalg import block_diag\n",
    "from scipy.optimize import linprog"
   ]
  },
  {
   "cell_type": "code",
   "execution_count": 35,
   "metadata": {},
   "outputs": [],
   "source": [
    "def solve(beta):\n",
    "    unary00 = .1\n",
    "    unary01 = .1\n",
    "    unary10 = .1\n",
    "    unary11 = .9\n",
    "    unary20 = .9\n",
    "    unary21 = .1\n",
    "    c = np.array([\n",
    "        unary00, unary01, unary10, unary11, unary20, unary21,\n",
    "        0, beta, beta, 0,\n",
    "        0, beta, beta, 0,\n",
    "        0, beta, beta, 0,\n",
    "    ])\n",
    "    A_ub = - np.eye(18)\n",
    "    b_ub = np.zeros(18)\n",
    "\n",
    "    C = np.array([\n",
    "        [1, 1, 0, 0, 0, 0],\n",
    "        [0, 0, 1, 1, 0, 0],\n",
    "        [0, 0, 0, 0, 1, 1]\n",
    "    ])\n",
    "    D = np.array([\n",
    "        [-1, 0, 0, 0, 0, 0],\n",
    "        [0, -1, 0, 0, 0, 0],\n",
    "        [0, 0, -1, 0, 0, 0],\n",
    "        [0, 0, 0, -1, 0, 0],\n",
    "        [-1, 0, 0, 0, 0, 0],\n",
    "        [0, -1, 0, 0, 0, 0],\n",
    "        [0, 0, 0, 0, -1, 0],\n",
    "        [0, 0, 0, 0, 0, -1],\n",
    "        [0, 0, -1, 0, 0, 0],\n",
    "        [0, 0, 0, -1, 0, 0],\n",
    "        [0, 0, 0, 0, -1, 0],\n",
    "        [0, 0, 0, 0, 0, -1],\n",
    "    ])\n",
    "    E = np.array([\n",
    "        [1, 1, 0, 0],\n",
    "        [0, 0, 1, 1],\n",
    "        [1, 0, 1, 0],\n",
    "        [0, 1, 0, 1]    \n",
    "    ])\n",
    "    F = block_diag(E, E, E)\n",
    "    A_eq = np.vstack((\n",
    "        np.hstack((C, np.zeros((3, 12)))),\n",
    "        np.hstack((D, F))\n",
    "    ))\n",
    "    b_eq = np.hstack((np.ones(3), np.zeros(12)))\n",
    "    x = linprog(c, A_ub, b_ub, A_eq, b_eq)\n",
    "    return x"
   ]
  },
  {
   "cell_type": "code",
   "execution_count": 38,
   "metadata": {},
   "outputs": [
    {
     "data": {
      "text/plain": [
       "     fun: 1.1000000000000001\n",
       " message: 'Optimization terminated successfully.'\n",
       "     nit: 17\n",
       "   slack: array([ 1.,  0.,  1.,  0.,  1.,  0.,  1.,  0.,  0.,  0.,  1.,  0.,  0.,\n",
       "        0.,  1.,  0.,  0.,  0.])\n",
       "  status: 0\n",
       " success: True\n",
       "       x: array([ 1.,  0.,  1.,  0.,  1.,  0.,  1.,  0.,  0.,  0.,  1.,  0.,  0.,\n",
       "        0.,  1.,  0.,  0.,  0.])"
      ]
     },
     "execution_count": 38,
     "metadata": {},
     "output_type": "execute_result"
    }
   ],
   "source": [
    "# Solving for an attractive potential\n",
    "solve(1.0)"
   ]
  },
  {
   "cell_type": "markdown",
   "metadata": {},
   "source": [
    "For the attractive potential we get a state with the minimal energy of $1.1$."
   ]
  },
  {
   "cell_type": "code",
   "execution_count": 37,
   "metadata": {},
   "outputs": [
    {
     "data": {
      "text/plain": [
       "     fun: -1.8999999999999999\n",
       " message: 'Optimization terminated successfully.'\n",
       "     nit: 17\n",
       "   slack: array([ 0.5,  0.5,  0.5,  0.5,  0.5,  0.5,  0. ,  0.5,  0.5,  0. ,  0. ,\n",
       "        0.5,  0.5,  0. ,  0. ,  0.5,  0.5,  0. ])\n",
       "  status: 0\n",
       " success: True\n",
       "       x: array([ 0.5,  0.5,  0.5,  0.5,  0.5,  0.5,  0. ,  0.5,  0.5,  0. ,  0. ,\n",
       "        0.5,  0.5,  0. ,  0. ,  0.5,  0.5,  0. ])"
      ]
     },
     "execution_count": 37,
     "metadata": {},
     "output_type": "execute_result"
    }
   ],
   "source": [
    "solve(-1.0)"
   ]
  },
  {
   "cell_type": "markdown",
   "metadata": {},
   "source": [
    "For the repulsive potential we get a state with a negative minimal energy. This is not a surprise, as we posed the attractiveness as a requirement for this method in the lecture."
   ]
  }
 ],
 "metadata": {
  "kernelspec": {
   "display_name": "Python 3",
   "language": "python",
   "name": "python3"
  },
  "language_info": {
   "codemirror_mode": {
    "name": "ipython",
    "version": 3
   },
   "file_extension": ".py",
   "mimetype": "text/x-python",
   "name": "python",
   "nbconvert_exporter": "python",
   "pygments_lexer": "ipython3",
   "version": "3.6.1"
  }
 },
 "nbformat": 4,
 "nbformat_minor": 2
}
